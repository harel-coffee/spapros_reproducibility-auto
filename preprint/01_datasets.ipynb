{
 "cells": [
  {
   "cell_type": "markdown",
   "id": "231d2198-5d6a-4096-a8cf-2bbba17aec81",
   "metadata": {},
   "source": [
    "# Data processing\n",
    "\n",
    "Prepare the single cell and untargeted spatial transcriptomics datasets.\n",
    "\n",
    "**Datasets**:\n",
    "\n",
    "\n",
    "- human lung scRNA-seq\n",
    "    - Madissoon2020, \n",
    "    - Krasnow2021, \n",
    "    - Meyer2022, \n",
    "- developing human heart \n",
    "    - Asp2019 scRNAseq\n",
    "    - Asp2019 untargeted ST\n",
    "- adult human heart \n",
    "    - Litvinukova2020\n",
    "\n",
    "\n",
    "**The final datasets include**:\n",
    "- adata.X: raw integer counts\n",
    "- adata.obs:\n",
    "    - cell type keys\n",
    "    - size factors: \n",
    "        - size_factors (from scran normalisation)\n",
    "        - size_factors_target_sum_10000 (from normalise_total)\n",
    "- adata.var:\n",
    "    - highly variable genes:\n",
    "        - highly_variable_{n} for n in [8000,6000,4000,2000,1000,500]\n",
    "    - quantiles:\n",
    "        - expression quantiles\n",
    "    - expression penalties (note that these are added at the end of the notebook) #TODO: potentially embed this in the dataset specific parts\n",
    "        \n",
    "**requirements**:\n",
    "- To run this notebook use the following [docker container](https://hub.docker.com/r/leanderd/single-cell-analysis)"
   ]
  },
  {
   "cell_type": "markdown",
   "id": "bd88841c-545e-4960-a0f3-ef5b531780b4",
   "metadata": {},
   "source": [
    "# Inputs\n",
    "\n",
    "- The raw data is expected to be located at `DATA_DIR+\"raw\"`\n",
    "- The processed data will be located at `DATA_DIR+\"processed\"`\n",
    "--> adjust `DATA_DIR` to your local settings"
   ]
  },
  {
   "cell_type": "code",
   "execution_count": 1,
   "id": "d667b49b-cea2-4f7a-8ec0-fe0131840909",
   "metadata": {},
   "outputs": [],
   "source": [
    "# Adjust the following \n",
    "DATA_DIR = \"/lustre/groups/ml01/workspace/louis.kuemmerle/projects/G1/data/\""
   ]
  },
  {
   "cell_type": "code",
   "execution_count": 2,
   "id": "48ff83f0-d268-451b-814d-a22d52d2eb2e",
   "metadata": {},
   "outputs": [],
   "source": [
    "import os\n",
    "import pandas as pd\n",
    "import anndata as ann\n",
    "import scanpy as sc\n",
    "import scanpy.external as sce\n",
    "import numpy as np\n",
    "import scipy\n",
    "import matplotlib.pyplot as plt\n",
    "import seaborn as sns\n",
    "from datetime import datetime\n",
    "from importlib import reload\n",
    "sc.settings.verbosity = 3\n",
    "\n",
    "# silence NumbaPerformanceWarning\n",
    "import warnings\n",
    "try:\n",
    "    from numba.core.errors import NumbaPerformanceWarning\n",
    "    warnings.filterwarnings(\"ignore\", category=NumbaPerformanceWarning)\n",
    "except:\n",
    "    print(\"Ignore NumbaPerformanceWarning didn't work\")"
   ]
  },
  {
   "cell_type": "markdown",
   "id": "91df9914-9426-42b9-a792-67e55002aa01",
   "metadata": {},
   "source": [
    "# Functions"
   ]
  },
  {
   "cell_type": "code",
   "execution_count": 3,
   "id": "c3a9ade5-d30d-4d3e-a996-4bdb5771b169",
   "metadata": {},
   "outputs": [],
   "source": [
    "def scran_normalization_size_factor(adata, min_mean = 0.1):\n",
    "    # rpy2 for running R code\n",
    "    import rpy2.rinterface_lib.callbacks\n",
    "    import logging\n",
    "    rpy2.rinterface_lib.callbacks.logger.setLevel(logging.ERROR) # Ignore R warning messages\n",
    "    import rpy2.robjects as ro\n",
    "    import anndata2ri\n",
    "    from scipy import sparse\n",
    "    \n",
    "    anndata2ri.activate()\n",
    "    ro.r('library(\"scran\")')\n",
    "    \n",
    "    # Preliminary clustering for differentiated normalisation\n",
    "    adata_pp = adata.copy()\n",
    "    sc.pp.normalize_per_cell(adata_pp, counts_per_cell_after=1e6)\n",
    "    sc.pp.log1p(adata_pp)\n",
    "    sc.pp.pca(adata_pp, n_comps=15, svd_solver='arpack')\n",
    "    sc.pp.neighbors(adata_pp)\n",
    "    sc.tl.leiden(adata_pp, key_added='groups', resolution=0.5)\n",
    "    \n",
    "    ro.globalenv['data_mat'] = adata.X.T\n",
    "    ro.globalenv['input_groups'] = adata_pp.obs['groups']\n",
    "    size_factors = ro.r(f'calculateSumFactors(data_mat, clusters = input_groups, min.mean = {min_mean})')\n",
    "    del adata_pp\n",
    "    return size_factors\n",
    "\n",
    "def calculate_size_factors(adata,normalisation='scran',key_added='size_factors'):  \n",
    "    if normalisation=='cpm':\n",
    "        tmp = sc.pp.normalize_total(adata,target_sum=1e6,inplace=False)\n",
    "        adata.obs[key_added] = tmp['norm_factor']/10**6\n",
    "    elif normalisation=='scran':\n",
    "        adata.obs[key_added] = scran_normalization_size_factor(adata, min_mean = 0.1)\n",
    "        \n",
    "def get_highly_variable(adata,N=8000,key_added='highly_variable'):\n",
    "    \"\"\"Compute N highly variable genes of given dataset for given normalisation\n",
    "    \n",
    "    A copy of the raw data is normalised and log1p transformed to extract N highly variable genes.\n",
    "    \"\"\"\n",
    "    a = adata.copy()\n",
    "    a.X /= a.obs['size_factors'].values[:,None]\n",
    "    sc.pp.log1p(a) \n",
    "    sc.pp.highly_variable_genes(a, n_top_genes=N, flavor='cell_ranger', inplace=True)\n",
    "    adata.var[key_added] = a.var['highly_variable']\n",
    "    \n",
    "def split_train_test_sets(adata,split=4,seed=2020):\n",
    "    \"\"\"Split data to train and test set\"\"\"\n",
    "    n_train = (adata.n_obs//(split+1))*split\n",
    "    \n",
    "    np.random.seed(seed=seed)\n",
    "    train_obs = np.random.choice(adata.n_obs, n_train, replace=False)\n",
    "    test_obs = np.array([True for i in range(adata.n_obs)])\n",
    "    test_obs[train_obs] = False\n",
    "    train_obs = np.invert(test_obs)\n",
    "    \n",
    "    print(f\"Split data to ratios {split}:1 (train:test)\")\n",
    "    print(f\"datapoints: {adata.n_obs}\")\n",
    "    print(f\"train data: {np.sum(train_obs)}\")\n",
    "    print(f\"test data: {np.sum(test_obs)}\")\n",
    "    \n",
    "    adata.obs['train_set'] = train_obs\n",
    "    adata.obs['test_set'] = test_obs\n",
    "    \n",
    "def gene_mean_and_std(adata):\n",
    "    \"\"\"Calculate mean and std of genes for optional zscoring \n",
    "    \n",
    "    adata: anndata object\n",
    "        The adata should contain raw integer counts (adata.X) and a size factor according some normalisation\n",
    "        procedure (adata.obs['size_factors']).\n",
    "    \"\"\"\n",
    "    adata_tmp = adata.copy()\n",
    "    # normalise\n",
    "    adata_tmp.X /= adata_tmp.obs['size_factors'].values[:,None]\n",
    "    # log1p\n",
    "    sc.pp.log1p(adata_tmp)\n",
    "    adata.var['mean'] = np.mean(adata_tmp.X,axis=0)\n",
    "    adata.var['std'] = np.std(adata_tmp.X,axis=0)    \n",
    "        \n",
    "        \n",
    "def get_expression_quantile(adata,q=0.9,log1p=True,zeros_to_nan=False):\n",
    "    \"\"\"Compute each genes q'th quantile on normalised (and log1p) data \n",
    "    \n",
    "    dataset: str or AnnData \n",
    "        AnnData needs to contain raw counts (adata.X) and some size factor (adata.obs['size_factors'])\n",
    "    log1p: bool\n",
    "        log1p the data to get quantile values of log data.\n",
    "    zeros_to_nan: bool\n",
    "        Don't include zeros into quantile calculation\n",
    "    \"\"\"\n",
    "    a = adata.copy() \n",
    "    a.X /= a.obs['size_factors'].values[:,None]\n",
    "    if log1p:\n",
    "        sc.pp.log1p(a)\n",
    "    df = pd.DataFrame(a.X,index=a.obs.index,columns=a.var.index)\n",
    "    if zeros_to_nan:\n",
    "        df[df==0] = np.nan\n",
    "    quantiles = df.quantile(q)\n",
    "    if zeros_to_nan:\n",
    "        adata.var[f'pos_quantile_{q}'] = df.quantile(q)\n",
    "    else:\n",
    "        adata.var[f'quantile_{q}'] = df.quantile(q)\n",
    "    \n",
    "    \n",
    "def get_umap(adata,key_added=\"X_umap\",hvg_key=\"highly_variable\"):\n",
    "    \"\"\"Compute pca, knn graph and umap, save umap only\n",
    "    \"\"\"\n",
    "    # preprocessing\n",
    "    if hvg_key:\n",
    "        a = adata[:,adata.var[hvg_key]].copy()\n",
    "    else:\n",
    "        a = adata.copy()\n",
    "    a.X /= a.obs['size_factors'].values[:,None]\n",
    "    sc.pp.log1p(a)\n",
    "    # umap calculation\n",
    "    sc.tl.pca(a)\n",
    "    sc.pp.neighbors(a)\n",
    "    sc.tl.umap(a)\n",
    "    # add to adata\n",
    "    adata.obsm[key_added] = a.obsm[\"X_umap\"]"
   ]
  },
  {
   "cell_type": "markdown",
   "id": "0b3e1299-d9d7-4549-aec5-8ce6f6504396",
   "metadata": {},
   "source": [
    "# Dataset A, Madissoon 2019"
   ]
  },
  {
   "cell_type": "code",
   "execution_count": 4,
   "id": "59ee548e-326f-451a-b144-8a5e84c95719",
   "metadata": {},
   "outputs": [],
   "source": [
    "adata = sc.read(DATA_DIR+\"raw/Meyer_Krasnow_raw.h5ad\") #TODO: adjust to Madissoon raw instead of HLCA version?"
   ]
  },
  {
   "cell_type": "code",
   "execution_count": 5,
   "id": "8b7f7c07-2de4-458f-9c89-e36505c594a1",
   "metadata": {
    "collapsed": true,
    "jupyter": {
     "outputs_hidden": true
    },
    "tags": []
   },
   "outputs": [
    {
     "data": {
      "text/plain": [
       "AnnData object with n_obs × n_vars = 118013 × 33704\n",
       "    obs: 'age', 'age_range', 'anatomical_region', 'anatomical_region_detailed', 'batch', 'dataset', 'disease', 'donor', 'ethnicity', 'ethnicity_mixed', 'last_author/PI', 'lung_vs_nasal', 'original_celltype_ann', 'pack_years', 'sample', 'sample_alias', 'sample_type', 'sampling_method', 'sex', 'smoking', 'total_counts', 'log10_total_counts', 'n_genes_detected', 'mito_frac', 'ribo_frac', 'compl', 'ann_level_1', 'ann_level_2', 'ann_level_3', 'ann_level_4', 'ann_level_5', 'ann_highest_res', 'ann_new', 'subject_type'\n",
       "    var: 'n_cells'"
      ]
     },
     "execution_count": 5,
     "metadata": {},
     "output_type": "execute_result"
    }
   ],
   "source": [
    "adata"
   ]
  },
  {
   "cell_type": "code",
   "execution_count": 9,
   "id": "5a1fd483-28f6-48b3-bd0a-047d44630c24",
   "metadata": {
    "collapsed": true,
    "jupyter": {
     "outputs_hidden": true
    }
   },
   "outputs": [
    {
     "name": "stdout",
     "output_type": "stream",
     "text": [
      "filtered out 13054 genes that are detected in less than 20 cells\n"
     ]
    },
    {
     "name": "stderr",
     "output_type": "stream",
     "text": [
      "Trying to set attribute `.var` of view, copying.\n"
     ]
    },
    {
     "name": "stdout",
     "output_type": "stream",
     "text": [
      "normalizing by total count per cell\n",
      "    finished (0:00:10): normalized adata.X and added    'n_counts', counts per cell before normalization (adata.obs)\n",
      "computing PCA\n",
      "    with n_comps=15\n",
      "    finished (0:01:14)\n",
      "computing neighbors\n",
      "    using 'X_pca' with n_pcs = 15\n",
      "    finished: added to `.uns['neighbors']`\n",
      "    `.obsp['distances']`, distances for each pair of neighbors\n",
      "    `.obsp['connectivities']`, weighted adjacency matrix (0:00:27)\n",
      "running Leiden clustering\n",
      "    finished: found 20 clusters and added\n",
      "    'groups', the cluster labels (adata.obs, categorical) (0:00:12)\n",
      "normalizing counts per cell\n",
      "    finished (0:00:05)\n",
      "If you pass `n_top_genes`, all cutoffs are ignored.\n",
      "extracting highly variable genes\n",
      "    finished (0:00:08)\n",
      "--> added\n",
      "    'highly_variable', boolean vector (adata.var)\n",
      "    'means', float vector (adata.var)\n",
      "    'dispersions', float vector (adata.var)\n",
      "    'dispersions_norm', float vector (adata.var)\n",
      "If you pass `n_top_genes`, all cutoffs are ignored.\n",
      "extracting highly variable genes\n",
      "    finished (0:00:08)\n",
      "--> added\n",
      "    'highly_variable', boolean vector (adata.var)\n",
      "    'means', float vector (adata.var)\n",
      "    'dispersions', float vector (adata.var)\n",
      "    'dispersions_norm', float vector (adata.var)\n",
      "If you pass `n_top_genes`, all cutoffs are ignored.\n",
      "extracting highly variable genes\n",
      "    finished (0:00:08)\n",
      "--> added\n",
      "    'highly_variable', boolean vector (adata.var)\n",
      "    'means', float vector (adata.var)\n",
      "    'dispersions', float vector (adata.var)\n",
      "    'dispersions_norm', float vector (adata.var)\n",
      "If you pass `n_top_genes`, all cutoffs are ignored.\n",
      "extracting highly variable genes\n",
      "    finished (0:00:11)\n",
      "--> added\n",
      "    'highly_variable', boolean vector (adata.var)\n",
      "    'means', float vector (adata.var)\n",
      "    'dispersions', float vector (adata.var)\n",
      "    'dispersions_norm', float vector (adata.var)\n",
      "If you pass `n_top_genes`, all cutoffs are ignored.\n",
      "extracting highly variable genes\n",
      "    finished (0:00:10)\n",
      "--> added\n",
      "    'highly_variable', boolean vector (adata.var)\n",
      "    'means', float vector (adata.var)\n",
      "    'dispersions', float vector (adata.var)\n",
      "    'dispersions_norm', float vector (adata.var)\n",
      "If you pass `n_top_genes`, all cutoffs are ignored.\n",
      "extracting highly variable genes\n",
      "    finished (0:00:13)\n",
      "--> added\n",
      "    'highly_variable', boolean vector (adata.var)\n",
      "    'means', float vector (adata.var)\n",
      "    'dispersions', float vector (adata.var)\n",
      "    'dispersions_norm', float vector (adata.var)\n"
     ]
    },
    {
     "name": "stderr",
     "output_type": "stream",
     "text": [
      "/opt/python/lib/python3.8/site-packages/pandas/core/arrays/categorical.py:2487: FutureWarning: The `inplace` parameter in pandas.Categorical.remove_unused_categories is deprecated and will be removed in a future version.\n",
      "  res = method(*args, **kwargs)\n"
     ]
    },
    {
     "name": "stdout",
     "output_type": "stream",
     "text": [
      "computing PCA\n",
      "    on highly variable genes\n",
      "    with n_comps=50\n",
      "    finished (0:01:29)\n",
      "computing neighbors\n",
      "    using 'X_pca' with n_pcs = 50\n",
      "    finished: added to `.uns['neighbors']`\n",
      "    `.obsp['distances']`, distances for each pair of neighbors\n",
      "    `.obsp['connectivities']`, weighted adjacency matrix (0:00:33)\n",
      "computing UMAP\n",
      "    finished: added\n",
      "    'X_umap', UMAP coordinates (adata.obsm) (0:01:52)\n",
      "Calculate quantiles 0.8\n",
      "Calculate quantiles 0.85\n",
      "Calculate quantiles 0.9\n",
      "Calculate quantiles 0.95\n",
      "Calculate quantiles 0.99\n"
     ]
    }
   ],
   "source": [
    "adata = adata[adata.obs['dataset']=='Sanger_Meyer_2019Madissoon',:]\n",
    "sc.pp.filter_genes(adata,min_cells=20)\n",
    "sc.pp.filter_cells(adata,min_genes=1)\n",
    "adata.X = adata.X.toarray()\n",
    "calculate_size_factors(adata,normalisation='scran',key_added='size_factors')\n",
    "calculate_size_factors(adata,normalisation='cpm',key_added='size_factors_cpm')\n",
    "get_highly_variable(adata,N=8000,key_added='highly_variable')\n",
    "for n_hvg in [6000,4000,2000,1000,500]:\n",
    "    get_highly_variable(adata,N=n_hvg,key_added=f'highly_variable_{n_hvg}')\n",
    "get_umap(adata,key_added=\"X_umap\",hvg_key=\"highly_variable\")\n",
    "for q in [0.8,0.85,0.9,0.95,0.99]:\n",
    "    print(f\"Calculate quantiles {q}\")\n",
    "    get_expression_quantile(adata,q=q,log1p=True,zeros_to_nan=False)\n",
    "adata.X = scipy.sparse.csr_matrix(adata.X)\n",
    "#adata = adata[:,adata.var['highly_variable']]\n",
    "adata.write(DATA_DIR+'processed/Madissoon2019.h5ad')"
   ]
  },
  {
   "cell_type": "markdown",
   "id": "9746dbe5-d49b-4546-877c-d9f9820bb096",
   "metadata": {},
   "source": [
    "# Dataset B, Krasnow 2020"
   ]
  },
  {
   "cell_type": "code",
   "execution_count": 4,
   "id": "1c490cb2-15ef-4a21-8daf-1574f550b003",
   "metadata": {},
   "outputs": [],
   "source": [
    "adata = sc.read(DATA_DIR+\"raw/Meyer_Krasnow_raw.h5ad\")"
   ]
  },
  {
   "cell_type": "code",
   "execution_count": null,
   "id": "055c0491-810f-4e36-991a-75d7e394deaf",
   "metadata": {},
   "outputs": [
    {
     "name": "stderr",
     "output_type": "stream",
     "text": [
      "/opt/python/lib/python3.8/site-packages/pandas/core/arrays/categorical.py:2487: FutureWarning: The `inplace` parameter in pandas.Categorical.remove_unused_categories is deprecated and will be removed in a future version.\n",
      "  res = method(*args, **kwargs)\n"
     ]
    },
    {
     "name": "stdout",
     "output_type": "stream",
     "text": [
      "filtered out 15061 genes that are detected in less than 20 cells\n"
     ]
    },
    {
     "name": "stderr",
     "output_type": "stream",
     "text": [
      "Trying to set attribute `.var` of view, copying.\n"
     ]
    },
    {
     "name": "stdout",
     "output_type": "stream",
     "text": [
      "normalizing by total count per cell\n"
     ]
    },
    {
     "name": "stderr",
     "output_type": "stream",
     "text": [
      "/opt/python/lib/python3.8/site-packages/pandas/core/arrays/categorical.py:2487: FutureWarning: The `inplace` parameter in pandas.Categorical.remove_unused_categories is deprecated and will be removed in a future version.\n",
      "  res = method(*args, **kwargs)\n"
     ]
    },
    {
     "name": "stdout",
     "output_type": "stream",
     "text": [
      "    finished (0:00:16): normalized adata.X and added    'n_counts', counts per cell before normalization (adata.obs)\n",
      "computing PCA\n",
      "    with n_comps=15\n",
      "    finished (0:01:10)\n",
      "computing neighbors\n",
      "    using 'X_pca' with n_pcs = 15\n",
      "    finished: added to `.uns['neighbors']`\n",
      "    `.obsp['distances']`, distances for each pair of neighbors\n",
      "    `.obsp['connectivities']`, weighted adjacency matrix (0:00:57)\n",
      "running Leiden clustering\n",
      "    finished: found 20 clusters and added\n",
      "    'groups', the cluster labels (adata.obs, categorical) (0:00:34)\n"
     ]
    }
   ],
   "source": [
    "adata = adata[adata.obs['dataset']=='Stanford_Krasnow_bioRxivTravaglini',:]\n",
    "sc.pp.filter_genes(adata,min_cells=20)\n",
    "sc.pp.filter_cells(adata,min_genes=1)\n",
    "adata.X = adata.X.toarray()\n",
    "calculate_size_factors(adata,normalisation='scran',key_added='size_factors')\n",
    "calculate_size_factors(adata,normalisation='cpm',key_added='size_factors_cpm')\n",
    "get_highly_variable(adata,N=8000,key_added='highly_variable')\n",
    "for n_hvg in [6000,4000,2000,1000,500]:\n",
    "    get_highly_variable(adata,N=n_hvg,key_added=f'highly_variable_{n_hvg}')\n",
    "get_umap(adata,key_added=\"X_umap\",hvg_key=\"highly_variable\")\n",
    "for q in [0.8,0.85,0.9,0.95,0.99]:\n",
    "    print(f\"Calculate quantiles {q}\")\n",
    "    get_expression_quantile(adata,q=q,log1p=True,zeros_to_nan=False)\n",
    "adata.X = scipy.sparse.csr_matrix(adata.X)\n",
    "#adata = adata[:,adata.var['highly_variable']]\n",
    "adata.write(DATA_DIR+'processed/Krasnow2020.h5ad')"
   ]
  },
  {
   "cell_type": "markdown",
   "id": "ed96e879-5afc-4887-a44d-514ba7f8056f",
   "metadata": {},
   "source": [
    "# Dataset C, Meyer5loc 2021"
   ]
  },
  {
   "cell_type": "code",
   "execution_count": 4,
   "id": "27301844-c641-44dc-a234-5ac459310b77",
   "metadata": {},
   "outputs": [],
   "source": [
    "adata = sc.read(DATA_DIR+\"raw/lung_5loc_sc_sn_raw_final.h5ad\")"
   ]
  },
  {
   "cell_type": "code",
   "execution_count": 5,
   "id": "77c76611-907f-4d11-aeba-ff7912018888",
   "metadata": {
    "collapsed": true,
    "jupyter": {
     "outputs_hidden": true
    }
   },
   "outputs": [
    {
     "name": "stderr",
     "output_type": "stream",
     "text": [
      "/opt/python/lib/python3.8/site-packages/pandas/core/arrays/categorical.py:2487: FutureWarning: The `inplace` parameter in pandas.Categorical.remove_unused_categories is deprecated and will be removed in a future version.\n",
      "  res = method(*args, **kwargs)\n"
     ]
    },
    {
     "name": "stdout",
     "output_type": "stream",
     "text": [
      "filtered out 2509 genes that are detected in less than 20 cells\n"
     ]
    },
    {
     "name": "stderr",
     "output_type": "stream",
     "text": [
      "Trying to set attribute `.var` of view, copying.\n"
     ]
    },
    {
     "name": "stdout",
     "output_type": "stream",
     "text": [
      "normalizing by total count per cell\n"
     ]
    },
    {
     "name": "stderr",
     "output_type": "stream",
     "text": [
      "/opt/python/lib/python3.8/site-packages/pandas/core/arrays/categorical.py:2487: FutureWarning: The `inplace` parameter in pandas.Categorical.remove_unused_categories is deprecated and will be removed in a future version.\n",
      "  res = method(*args, **kwargs)\n"
     ]
    },
    {
     "name": "stdout",
     "output_type": "stream",
     "text": [
      "    finished (0:00:18): normalized adata.X and added    'n_counts', counts per cell before normalization (adata.obs)\n",
      "computing PCA\n",
      "    with n_comps=15\n",
      "    finished (0:00:36)\n",
      "computing neighbors\n",
      "    using 'X_pca' with n_pcs = 15\n",
      "    finished: added to `.uns['neighbors']`\n",
      "    `.obsp['distances']`, distances for each pair of neighbors\n",
      "    `.obsp['connectivities']`, weighted adjacency matrix (0:00:33)\n",
      "running Leiden clustering\n",
      "    finished: found 26 clusters and added\n",
      "    'groups', the cluster labels (adata.obs, categorical) (0:00:23)\n",
      "normalizing counts per cell\n",
      "    finished (0:00:12)\n",
      "If you pass `n_top_genes`, all cutoffs are ignored.\n",
      "extracting highly variable genes\n",
      "    finished (0:00:15)\n",
      "--> added\n",
      "    'highly_variable', boolean vector (adata.var)\n",
      "    'means', float vector (adata.var)\n",
      "    'dispersions', float vector (adata.var)\n",
      "    'dispersions_norm', float vector (adata.var)\n",
      "If you pass `n_top_genes`, all cutoffs are ignored.\n",
      "extracting highly variable genes\n",
      "    finished (0:00:12)\n",
      "--> added\n",
      "    'highly_variable', boolean vector (adata.var)\n",
      "    'means', float vector (adata.var)\n",
      "    'dispersions', float vector (adata.var)\n",
      "    'dispersions_norm', float vector (adata.var)\n",
      "If you pass `n_top_genes`, all cutoffs are ignored.\n",
      "extracting highly variable genes\n",
      "    finished (0:00:12)\n",
      "--> added\n",
      "    'highly_variable', boolean vector (adata.var)\n",
      "    'means', float vector (adata.var)\n",
      "    'dispersions', float vector (adata.var)\n",
      "    'dispersions_norm', float vector (adata.var)\n",
      "If you pass `n_top_genes`, all cutoffs are ignored.\n",
      "extracting highly variable genes\n",
      "    finished (0:00:11)\n",
      "--> added\n",
      "    'highly_variable', boolean vector (adata.var)\n",
      "    'means', float vector (adata.var)\n",
      "    'dispersions', float vector (adata.var)\n",
      "    'dispersions_norm', float vector (adata.var)\n",
      "If you pass `n_top_genes`, all cutoffs are ignored.\n",
      "extracting highly variable genes\n",
      "    finished (0:00:10)\n",
      "--> added\n",
      "    'highly_variable', boolean vector (adata.var)\n",
      "    'means', float vector (adata.var)\n",
      "    'dispersions', float vector (adata.var)\n",
      "    'dispersions_norm', float vector (adata.var)\n",
      "If you pass `n_top_genes`, all cutoffs are ignored.\n",
      "extracting highly variable genes\n",
      "    finished (0:00:17)\n",
      "--> added\n",
      "    'highly_variable', boolean vector (adata.var)\n",
      "    'means', float vector (adata.var)\n",
      "    'dispersions', float vector (adata.var)\n",
      "    'dispersions_norm', float vector (adata.var)\n"
     ]
    },
    {
     "name": "stderr",
     "output_type": "stream",
     "text": [
      "/opt/python/lib/python3.8/site-packages/pandas/core/arrays/categorical.py:2487: FutureWarning: The `inplace` parameter in pandas.Categorical.remove_unused_categories is deprecated and will be removed in a future version.\n",
      "  res = method(*args, **kwargs)\n"
     ]
    },
    {
     "name": "stdout",
     "output_type": "stream",
     "text": [
      "computing PCA\n",
      "    on highly variable genes\n",
      "    with n_comps=50\n",
      "    finished (0:00:49)\n",
      "computing neighbors\n",
      "    using 'X_pca' with n_pcs = 50\n",
      "    finished: added to `.uns['neighbors']`\n",
      "    `.obsp['distances']`, distances for each pair of neighbors\n",
      "    `.obsp['connectivities']`, weighted adjacency matrix (0:00:45)\n",
      "computing UMAP\n",
      "    finished: added\n",
      "    'X_umap', UMAP coordinates (adata.obsm) (0:02:28)\n",
      "Calculate quantiles 0.8\n",
      "Calculate quantiles 0.85\n",
      "Calculate quantiles 0.9\n",
      "Calculate quantiles 0.95\n",
      "Calculate quantiles 0.99\n"
     ]
    }
   ],
   "source": [
    "adata = adata[adata.obs[\"scsn\"] == 'cells']\n",
    "sc.pp.filter_genes(adata,min_cells=20)\n",
    "sc.pp.filter_cells(adata,min_genes=1)\n",
    "adata.X = adata.X.toarray()\n",
    "calculate_size_factors(adata,normalisation='scran',key_added='size_factors')\n",
    "calculate_size_factors(adata,normalisation='cpm',key_added='size_factors_cpm')\n",
    "get_highly_variable(adata,N=8000,key_added='highly_variable')\n",
    "for n_hvg in [6000,4000,2000,1000,500]:\n",
    "    get_highly_variable(adata,N=n_hvg,key_added=f'highly_variable_{n_hvg}')\n",
    "get_umap(adata,key_added=\"X_umap\",hvg_key=\"highly_variable\")\n",
    "for q in [0.8,0.85,0.9,0.95,0.99]:\n",
    "    print(f\"Calculate quantiles {q}\")\n",
    "    get_expression_quantile(adata,q=q,log1p=True,zeros_to_nan=False)\n",
    "adata.X = scipy.sparse.csr_matrix(adata.X)\n",
    "#adata = adata[:,adata.var['highly_variable']]\n",
    "adata.write(DATA_DIR+'processed/Meyer5loc2021.h5ad')"
   ]
  },
  {
   "cell_type": "markdown",
   "id": "57714aad-e113-4b61-8ca8-159fd3eacebc",
   "metadata": {},
   "source": [
    "# Dataset D, single cell Asp 2019"
   ]
  },
  {
   "cell_type": "markdown",
   "id": "f3e7d2ec-f49e-4c09-b0c3-095e51fa1f18",
   "metadata": {},
   "source": [
    "### Create h5ad"
   ]
  },
  {
   "cell_type": "code",
   "execution_count": null,
   "id": "25b72e68-f764-462a-80e3-f5e82ef9e9dd",
   "metadata": {},
   "outputs": [],
   "source": [
    "sc_ann_df = pd.read_csv(DATA_DIR+\"raw/Asp2019_filtered/all_cells_meta_data_filtered.tsv\", sep='\\t', index_col=0)\n",
    "sc_ann_df = sc_ann_df.dropna(subset=['nUMI'])\n",
    "\n",
    "adata_sc = sc.read_csv(\n",
    "    DATA_DIR+\"raw/Asp2019_filtered/all_cells_count_matrix_filtered.tsv\",  # the directory with the `.mtx` file\n",
    "    delimiter='\\t',\n",
    "    first_column_names=True                # use gene symbols for the variable names (variables-axis index)\n",
    "    ).T\n",
    "\n",
    "adata_sc.obs = sc_ann_df"
   ]
  },
  {
   "cell_type": "code",
   "execution_count": null,
   "id": "a55825bc-83ec-4389-a364-2707f77c291b",
   "metadata": {},
   "outputs": [],
   "source": [
    "adata_sc.write(DATA_DIR+'raw/Asp2019.h5ad')"
   ]
  },
  {
   "cell_type": "markdown",
   "id": "e01a0b32-9fb9-426a-9e26-b9ba88951d6a",
   "metadata": {},
   "source": [
    "### preprocess"
   ]
  },
  {
   "cell_type": "code",
   "execution_count": 5,
   "id": "f624be8b-df64-4669-9581-12626820831d",
   "metadata": {
    "collapsed": true,
    "jupyter": {
     "outputs_hidden": true
    }
   },
   "outputs": [
    {
     "name": "stdout",
     "output_type": "stream",
     "text": [
      "normalizing by total count per cell\n"
     ]
    },
    {
     "name": "stderr",
     "output_type": "stream",
     "text": [
      "/opt/python/lib/python3.8/site-packages/pandas/core/arrays/categorical.py:2487: FutureWarning: The `inplace` parameter in pandas.Categorical.remove_unused_categories is deprecated and will be removed in a future version.\n",
      "  res = method(*args, **kwargs)\n"
     ]
    },
    {
     "name": "stdout",
     "output_type": "stream",
     "text": [
      "    finished (0:00:00): normalized adata.X and added    'n_counts', counts per cell before normalization (adata.obs)\n",
      "computing PCA\n",
      "    with n_comps=15\n",
      "    finished (0:00:04)\n",
      "computing neighbors\n",
      "    using 'X_pca' with n_pcs = 15\n",
      "    finished: added to `.uns['neighbors']`\n",
      "    `.obsp['distances']`, distances for each pair of neighbors\n",
      "    `.obsp['connectivities']`, weighted adjacency matrix (0:00:06)\n",
      "running Leiden clustering\n",
      "    finished: found 15 clusters and added\n",
      "    'groups', the cluster labels (adata.obs, categorical) (0:00:00)\n",
      "normalizing counts per cell\n",
      "    finished (0:00:00)\n",
      "If you pass `n_top_genes`, all cutoffs are ignored.\n",
      "extracting highly variable genes\n",
      "    finished (0:00:00)\n",
      "--> added\n",
      "    'highly_variable', boolean vector (adata.var)\n",
      "    'means', float vector (adata.var)\n",
      "    'dispersions', float vector (adata.var)\n",
      "    'dispersions_norm', float vector (adata.var)\n",
      "If you pass `n_top_genes`, all cutoffs are ignored.\n",
      "extracting highly variable genes\n",
      "    finished (0:00:00)\n",
      "--> added\n",
      "    'highly_variable', boolean vector (adata.var)\n",
      "    'means', float vector (adata.var)\n",
      "    'dispersions', float vector (adata.var)\n",
      "    'dispersions_norm', float vector (adata.var)\n",
      "If you pass `n_top_genes`, all cutoffs are ignored.\n",
      "extracting highly variable genes\n",
      "    finished (0:00:00)\n",
      "--> added\n",
      "    'highly_variable', boolean vector (adata.var)\n",
      "    'means', float vector (adata.var)\n",
      "    'dispersions', float vector (adata.var)\n",
      "    'dispersions_norm', float vector (adata.var)\n",
      "If you pass `n_top_genes`, all cutoffs are ignored.\n",
      "extracting highly variable genes\n",
      "    finished (0:00:00)\n",
      "--> added\n",
      "    'highly_variable', boolean vector (adata.var)\n",
      "    'means', float vector (adata.var)\n",
      "    'dispersions', float vector (adata.var)\n",
      "    'dispersions_norm', float vector (adata.var)\n",
      "If you pass `n_top_genes`, all cutoffs are ignored.\n",
      "extracting highly variable genes\n",
      "    finished (0:00:00)\n",
      "--> added\n",
      "    'highly_variable', boolean vector (adata.var)\n",
      "    'means', float vector (adata.var)\n",
      "    'dispersions', float vector (adata.var)\n",
      "    'dispersions_norm', float vector (adata.var)\n",
      "If you pass `n_top_genes`, all cutoffs are ignored.\n",
      "extracting highly variable genes\n",
      "    finished (0:00:00)\n",
      "--> added\n",
      "    'highly_variable', boolean vector (adata.var)\n",
      "    'means', float vector (adata.var)\n",
      "    'dispersions', float vector (adata.var)\n",
      "    'dispersions_norm', float vector (adata.var)\n"
     ]
    },
    {
     "name": "stderr",
     "output_type": "stream",
     "text": [
      "/opt/python/lib/python3.8/site-packages/pandas/core/arrays/categorical.py:2487: FutureWarning: The `inplace` parameter in pandas.Categorical.remove_unused_categories is deprecated and will be removed in a future version.\n",
      "  res = method(*args, **kwargs)\n"
     ]
    },
    {
     "name": "stdout",
     "output_type": "stream",
     "text": [
      "computing PCA\n",
      "    on highly variable genes\n",
      "    with n_comps=50\n",
      "    finished (0:00:08)\n",
      "computing neighbors\n",
      "    using 'X_pca' with n_pcs = 50\n",
      "    finished: added to `.uns['neighbors']`\n",
      "    `.obsp['distances']`, distances for each pair of neighbors\n",
      "    `.obsp['connectivities']`, weighted adjacency matrix (0:00:00)\n",
      "computing UMAP\n",
      "    finished: added\n",
      "    'X_umap', UMAP coordinates (adata.obsm) (0:00:14)\n",
      "Calculate quantiles 0.8\n",
      "Calculate quantiles 0.85\n",
      "Calculate quantiles 0.9\n",
      "Calculate quantiles 0.95\n",
      "Calculate quantiles 0.99\n"
     ]
    }
   ],
   "source": [
    "adata = sc.read(DATA_DIR+'raw/Asp2019.h5ad')\n",
    "sc.pp.filter_genes(adata,min_cells=1)\n",
    "sc.pp.filter_cells(adata,min_genes=1)\n",
    "#adata.X = adata.X.toarray()\n",
    "calculate_size_factors(adata,normalisation='scran',key_added='size_factors')\n",
    "calculate_size_factors(adata,normalisation='cpm',key_added='size_factors_cpm')\n",
    "get_highly_variable(adata,N=8000,key_added='highly_variable')\n",
    "for n_hvg in [6000,4000,2000,1000,500]:\n",
    "    get_highly_variable(adata,N=n_hvg,key_added=f'highly_variable_{n_hvg}')\n",
    "get_umap(adata,key_added=\"X_umap\",hvg_key=\"highly_variable\")\n",
    "for q in [0.8,0.85,0.9,0.95,0.99]:\n",
    "    print(f\"Calculate quantiles {q}\")\n",
    "    get_expression_quantile(adata,q=q,log1p=True,zeros_to_nan=False)\n",
    "adata.X = scipy.sparse.csr_matrix(adata.X)\n",
    "#adata = adata[:,adata.var['highly_variable']]\n",
    "adata.write(DATA_DIR+'processed/Asp2019.h5ad')"
   ]
  },
  {
   "cell_type": "code",
   "execution_count": 17,
   "id": "014cc521-1e9d-48b9-96e8-8adfab59296c",
   "metadata": {},
   "outputs": [],
   "source": [
    "adata = sc.read(DATA_DIR+'processed/Asp2019.h5ad')\n",
    "adata = adata[adata.obs[\"celltype\"] != \"Immune cells\"]\n",
    "adata.write(DATA_DIR+'processed/Asp2019.h5ad')"
   ]
  },
  {
   "cell_type": "markdown",
   "id": "37831b2d-4935-4ef4-a126-3579276313f8",
   "metadata": {},
   "source": [
    "# Dataset E, spatial transcriptomics Asp 2019"
   ]
  },
  {
   "cell_type": "code",
   "execution_count": null,
   "id": "5c4d1726-6b0b-4f45-8108-ff52a80a8b8f",
   "metadata": {},
   "outputs": [],
   "source": [
    "ST_ann_df = pd.read_csv(DATA_DIR+\"raw/Asp2019_ST_filtered/meta_data.tsv\", sep='\\t', index_col=0)\n",
    "ST_ann_df = ST_ann_df.dropna(subset=['nUMI'])\n",
    "\n",
    "adata_ST = sc.read_csv(\n",
    "    DATA_DIR+\"raw/Asp2019_ST_filtered/filtered_matrix.tsv\",  # the directory with the `.mtx` file\n",
    "    delimiter='\\t',\n",
    "    first_column_names=True                # use gene symbols for the variable names (variables-axis index)\n",
    "    ).T\n",
    "\n",
    "adata_ST.obs = ST_ann_df\n",
    "\n",
    "sc.pp.filter_genes(adata_ST,min_cells=5)"
   ]
  },
  {
   "cell_type": "code",
   "execution_count": null,
   "id": "ea38ead4-7522-42ec-afc1-8ef0f1ef4243",
   "metadata": {},
   "outputs": [],
   "source": [
    "import mygene\n",
    "# Query for gene symbol info (entries that have no mapping will be marked as \"no hit\" and we'll keep the id. This includes the ERCCs)\n",
    "mg = mygene.MyGeneInfo()\n",
    "geneList = adata_ST.var_names.tolist()#adata.var_names[:ERCC_1st_index].tolist()#['ENSG00000148795', 'ENSG00000165359', 'ENSG00000150676']\n",
    "geneList = [r.split(\".\")[0] for r in geneList]\n",
    "geneSyms = mg.querymany(geneList , scopes='ensembl.gene', fields='symbol', species='human')\n",
    "\n",
    "# Get gene symbol for each gene_id where a symbol was found\n",
    "var_names = [d[\"symbol\"] if (\"symbol\" in d) else d[\"query\"] for d in geneSyms]\n",
    "# For symbols that occur multiple times add the gene_id (--> f\"{symbol}_{id}\")\n",
    "var_names = [f\"{v}_{geneList[i]}\" if (var_names.count(v) > 1) else v for i,v in enumerate(var_names)]\n",
    "adata_ST.var_names = var_names\n",
    "\n",
    "adata_ST.write(DATA_DIR+'raw/Asp2019_ST.h5ad')"
   ]
  },
  {
   "cell_type": "markdown",
   "id": "9f3f755b-22a0-4574-a5c6-a28911687ffe",
   "metadata": {},
   "source": [
    "#### Processing"
   ]
  },
  {
   "cell_type": "code",
   "execution_count": 4,
   "id": "7c5c4926-25a6-487a-8f24-c50192a813d2",
   "metadata": {},
   "outputs": [
    {
     "name": "stderr",
     "output_type": "stream",
     "text": [
      "/opt/python/lib/python3.8/site-packages/pandas/core/arrays/categorical.py:2487: FutureWarning: The `inplace` parameter in pandas.Categorical.remove_unused_categories is deprecated and will be removed in a future version.\n",
      "  res = method(*args, **kwargs)\n"
     ]
    }
   ],
   "source": [
    "adata_ST = sc.read(DATA_DIR+'raw/Asp2019_ST.h5ad')\n",
    "adata_ST = adata_ST[adata_ST.obs[\"weeks\"] == 6]"
   ]
  },
  {
   "cell_type": "code",
   "execution_count": 5,
   "id": "d8fc5f24-746c-440d-a960-c725a4992e0b",
   "metadata": {
    "collapsed": true,
    "jupyter": {
     "outputs_hidden": true
    }
   },
   "outputs": [
    {
     "name": "stdout",
     "output_type": "stream",
     "text": [
      "filtered out 68 genes that are detected in less than 1 cells\n"
     ]
    },
    {
     "name": "stderr",
     "output_type": "stream",
     "text": [
      "Trying to set attribute `.var` of view, copying.\n"
     ]
    },
    {
     "name": "stdout",
     "output_type": "stream",
     "text": [
      "normalizing by total count per cell\n"
     ]
    },
    {
     "name": "stderr",
     "output_type": "stream",
     "text": [
      "/opt/python/lib/python3.8/site-packages/pandas/core/arrays/categorical.py:2487: FutureWarning: The `inplace` parameter in pandas.Categorical.remove_unused_categories is deprecated and will be removed in a future version.\n",
      "  res = method(*args, **kwargs)\n"
     ]
    },
    {
     "name": "stdout",
     "output_type": "stream",
     "text": [
      "    finished (0:00:00): normalized adata.X and added    'n_counts', counts per cell before normalization (adata.obs)\n",
      "computing PCA\n",
      "    with n_comps=15\n",
      "    finished (0:00:07)\n",
      "computing neighbors\n",
      "    using 'X_pca' with n_pcs = 15\n",
      "    finished: added to `.uns['neighbors']`\n",
      "    `.obsp['distances']`, distances for each pair of neighbors\n",
      "    `.obsp['connectivities']`, weighted adjacency matrix (0:00:07)\n",
      "running Leiden clustering\n",
      "    finished: found 8 clusters and added\n",
      "    'groups', the cluster labels (adata.obs, categorical) (0:00:00)\n",
      "normalizing counts per cell\n",
      "    finished (0:00:00)\n",
      "If you pass `n_top_genes`, all cutoffs are ignored.\n",
      "extracting highly variable genes\n",
      "    finished (0:00:00)\n",
      "--> added\n",
      "    'highly_variable', boolean vector (adata.var)\n",
      "    'means', float vector (adata.var)\n",
      "    'dispersions', float vector (adata.var)\n",
      "    'dispersions_norm', float vector (adata.var)\n",
      "If you pass `n_top_genes`, all cutoffs are ignored.\n",
      "extracting highly variable genes\n",
      "    finished (0:00:00)\n",
      "--> added\n",
      "    'highly_variable', boolean vector (adata.var)\n",
      "    'means', float vector (adata.var)\n",
      "    'dispersions', float vector (adata.var)\n",
      "    'dispersions_norm', float vector (adata.var)\n",
      "If you pass `n_top_genes`, all cutoffs are ignored.\n",
      "extracting highly variable genes\n",
      "    finished (0:00:00)\n",
      "--> added\n",
      "    'highly_variable', boolean vector (adata.var)\n",
      "    'means', float vector (adata.var)\n",
      "    'dispersions', float vector (adata.var)\n",
      "    'dispersions_norm', float vector (adata.var)\n",
      "If you pass `n_top_genes`, all cutoffs are ignored.\n",
      "extracting highly variable genes\n",
      "    finished (0:00:00)\n",
      "--> added\n",
      "    'highly_variable', boolean vector (adata.var)\n",
      "    'means', float vector (adata.var)\n",
      "    'dispersions', float vector (adata.var)\n",
      "    'dispersions_norm', float vector (adata.var)\n",
      "If you pass `n_top_genes`, all cutoffs are ignored.\n",
      "extracting highly variable genes\n",
      "    finished (0:00:00)\n",
      "--> added\n",
      "    'highly_variable', boolean vector (adata.var)\n",
      "    'means', float vector (adata.var)\n",
      "    'dispersions', float vector (adata.var)\n",
      "    'dispersions_norm', float vector (adata.var)\n",
      "If you pass `n_top_genes`, all cutoffs are ignored.\n",
      "extracting highly variable genes\n",
      "    finished (0:00:00)\n",
      "--> added\n",
      "    'highly_variable', boolean vector (adata.var)\n",
      "    'means', float vector (adata.var)\n",
      "    'dispersions', float vector (adata.var)\n",
      "    'dispersions_norm', float vector (adata.var)\n"
     ]
    },
    {
     "name": "stderr",
     "output_type": "stream",
     "text": [
      "/opt/python/lib/python3.8/site-packages/pandas/core/arrays/categorical.py:2487: FutureWarning: The `inplace` parameter in pandas.Categorical.remove_unused_categories is deprecated and will be removed in a future version.\n",
      "  res = method(*args, **kwargs)\n"
     ]
    },
    {
     "name": "stdout",
     "output_type": "stream",
     "text": [
      "computing PCA\n",
      "    on highly variable genes\n",
      "    with n_comps=50\n",
      "    finished (0:00:10)\n",
      "computing neighbors\n",
      "    using 'X_pca' with n_pcs = 50\n",
      "    finished: added to `.uns['neighbors']`\n",
      "    `.obsp['distances']`, distances for each pair of neighbors\n",
      "    `.obsp['connectivities']`, weighted adjacency matrix (0:00:00)\n",
      "computing UMAP\n",
      "    finished: added\n",
      "    'X_umap', UMAP coordinates (adata.obsm) (0:00:09)\n"
     ]
    }
   ],
   "source": [
    "adata = adata_ST\n",
    "sc.pp.filter_genes(adata,min_cells=1)\n",
    "sc.pp.filter_cells(adata,min_genes=1)\n",
    "#adata.X = adata.X.toarray()\n",
    "calculate_size_factors(adata,normalisation='scran',key_added='size_factors')\n",
    "calculate_size_factors(adata,normalisation='cpm',key_added='size_factors_cpm')\n",
    "get_highly_variable(adata,N=8000,key_added='highly_variable')\n",
    "for n_hvg in [6000,4000,2000,1000,500]:\n",
    "    get_highly_variable(adata,N=n_hvg,key_added=f'highly_variable_{n_hvg}')\n",
    "get_umap(adata,key_added=\"X_umap\",hvg_key=\"highly_variable\")\n",
    "#for q in [0.8,0.85,0.9,0.95,0.99]:\n",
    "#    print(f\"Calculate quantiles {q}\")\n",
    "#    get_expression_quantile(adata,q=q,log1p=True,zeros_to_nan=False)\n",
    "adata.X = scipy.sparse.csr_matrix(adata.X)\n",
    "#adata = adata[:,adata.var['highly_variable']]\n",
    "adata.write(DATA_DIR+'processed/Asp2019_ST_6we.h5ad')"
   ]
  },
  {
   "cell_type": "code",
   "execution_count": 9,
   "id": "7f28bf5d-2f81-400d-b68e-193438a6458b",
   "metadata": {},
   "outputs": [
    {
     "name": "stderr",
     "output_type": "stream",
     "text": [
      "... storing 'res.0.8' as categorical\n"
     ]
    }
   ],
   "source": [
    "adata = sc.read(DATA_DIR+'processed/Asp2019_ST_6we.h5ad')\n",
    "adata.obs[\"res.0.8\"] = adata.obs[\"res.0.8\"].astype(\"str\")\n",
    "adata.write(DATA_DIR+'processed/Asp2019_ST_6we.h5ad')"
   ]
  },
  {
   "cell_type": "markdown",
   "id": "44c4c234-9a6b-4b91-82d7-06f7c336289d",
   "metadata": {},
   "source": [
    "# Dataset F, heart atlas Litvinukova2020"
   ]
  },
  {
   "cell_type": "code",
   "execution_count": 4,
   "id": "eb2247fc-0984-45b6-903c-9c1b69ece5b1",
   "metadata": {},
   "outputs": [],
   "source": [
    "adata = sc.read(DATA_DIR+\"raw/Litvinukova2020.h5ad\")"
   ]
  },
  {
   "cell_type": "code",
   "execution_count": 5,
   "id": "c84353e5-dec2-493f-91fd-91c3d9de81b6",
   "metadata": {},
   "outputs": [
    {
     "name": "stderr",
     "output_type": "stream",
     "text": [
      "/opt/python/lib/python3.8/site-packages/pandas/core/arrays/categorical.py:2487: FutureWarning: The `inplace` parameter in pandas.Categorical.remove_unused_categories is deprecated and will be removed in a future version.\n",
      "  res = method(*args, **kwargs)\n"
     ]
    },
    {
     "name": "stdout",
     "output_type": "stream",
     "text": [
      "[ 0.  1.  2.  3.  4.  5.  6.  7.  8.  9. 10. 11. 12. 13. 14. 15. 16. 17.\n",
      " 18. 19.]\n"
     ]
    }
   ],
   "source": [
    "# check if counts are raw integer counts\n",
    "from scipy.sparse import find\n",
    "find(adata.X == np.max(adata.X))\n",
    "tmp = adata[:,18002].X.toarray().copy()\n",
    "tmp = tmp[tmp<20]\n",
    "print(np.unique(tmp))"
   ]
  },
  {
   "cell_type": "code",
   "execution_count": 6,
   "id": "3687d886-5228-4498-90bc-083b7c26372d",
   "metadata": {},
   "outputs": [
    {
     "data": {
      "text/plain": [
       "Sanger-Nuclei     181491\n",
       "Harvard-Nuclei    178161\n",
       "Sanger-CD45        80597\n",
       "Sanger-Cells       45885\n",
       "Name: cell_source, dtype: int64"
      ]
     },
     "execution_count": 6,
     "metadata": {},
     "output_type": "execute_result"
    }
   ],
   "source": [
    "adata.obs[\"cell_source\"].value_counts()"
   ]
  },
  {
   "cell_type": "code",
   "execution_count": 7,
   "id": "34dfd024-cd86-4677-812f-c8c28168d0a7",
   "metadata": {
    "tags": []
   },
   "outputs": [
    {
     "name": "stdout",
     "output_type": "stream",
     "text": [
      "CD16+Mo        98\n",
      "MØ_AgP         98\n",
      "Adip3          98\n",
      "MØ_mod         97\n",
      "Adip2          81\n",
      "CD8+T_cytox    74\n",
      "NK             70\n",
      "CD4+T_tem      62\n",
      "CD14+Mo        33\n",
      "NC4            19\n",
      "NC3            11\n",
      "NC5             2\n",
      "IL17RA+Mo       0\n",
      "NC6             0\n",
      "NØ              0\n",
      "Name: cell_states, dtype: int64\n",
      "52\n",
      "NC5          88\n",
      "aCM5         81\n",
      "MØ_AgP       81\n",
      "NC3          62\n",
      "MØ_mod       56\n",
      "IL17RA+Mo    32\n",
      "NC6          19\n",
      "NØ            2\n",
      "Meso          0\n",
      "Name: cell_states, dtype: int64\n",
      "58\n"
     ]
    }
   ],
   "source": [
    "for source in [\"Sanger-Nuclei\",\"Harvard-Nuclei\"]:\n",
    "    tmp = adata.obs.loc[adata.obs[\"cell_source\"]==source,\"cell_states\"].value_counts()\n",
    "    print(tmp.loc[tmp<100])\n",
    "    print(len(tmp.loc[tmp>=100]))"
   ]
  },
  {
   "cell_type": "markdown",
   "id": "51467c57-3c9f-4528-970c-910852763379",
   "metadata": {},
   "source": [
    "**decision**: take \"Harvard-Nuclei\" that has 58 cell states with n_cells >= 100. (we take that sample since it has the most states)\n",
    "\n",
    "\n",
    "Plan: \n",
    "- Throw out cell types with n < 100\n",
    "- Reduce to ~50k cells\n",
    "    - For that we throw out cells from populations with a lot of cells. Set a cells_per_celltype threshold"
   ]
  },
  {
   "cell_type": "code",
   "execution_count": 8,
   "id": "8736caa1-b4e8-41b6-8799-415f2ca4652d",
   "metadata": {},
   "outputs": [
    {
     "name": "stderr",
     "output_type": "stream",
     "text": [
      "/opt/python/lib/python3.8/site-packages/pandas/core/arrays/categorical.py:2487: FutureWarning: The `inplace` parameter in pandas.Categorical.remove_unused_categories is deprecated and will be removed in a future version.\n",
      "  res = method(*args, **kwargs)\n",
      "/opt/python/lib/python3.8/site-packages/pandas/core/arrays/categorical.py:2487: FutureWarning: The `inplace` parameter in pandas.Categorical.remove_unused_categories is deprecated and will be removed in a future version.\n",
      "  res = method(*args, **kwargs)\n"
     ]
    }
   ],
   "source": [
    "adata = adata[adata.obs[\"cell_source\"] == \"Harvard-Nuclei\"]\n",
    "tmp = adata.obs[\"cell_states\"].value_counts()\n",
    "adata = adata[adata.obs[\"cell_states\"].isin((tmp[tmp>=100]).index) & ~adata.obs[\"cell_states\"].isin([\"nan\",\"doublets\"])]"
   ]
  },
  {
   "cell_type": "markdown",
   "id": "6fa06224-d71a-4626-9587-ab07e9f6694d",
   "metadata": {},
   "source": [
    "Find out where to set the threshold"
   ]
  },
  {
   "cell_type": "code",
   "execution_count": 9,
   "id": "6766d322-1513-4c20-82d4-9ea6ab9c6a96",
   "metadata": {},
   "outputs": [
    {
     "name": "stdout",
     "output_type": "stream",
     "text": [
      "Celltype:             NC4, count:     106, new cells per ct:   106, total cells    5936\n",
      "Celltype:       CD4+T_tem, count:     109, new cells per ct:     3, total cells    6101\n",
      "Celltype:           Adip4, count:     118, new cells per ct:     9, total cells    6587\n",
      "Celltype:          EC8_ln, count:     135, new cells per ct:    17, total cells    7488\n",
      "Celltype:         CD14+Mo, count:     163, new cells per ct:    28, total cells    8944\n",
      "Celltype:           Adip3, count:     192, new cells per ct:    29, total cells   10423\n",
      "Celltype:           Mo_pi, count:     207, new cells per ct:    15, total cells   11173\n",
      "Celltype:            aCM4, count:     229, new cells per ct:    22, total cells   12251\n",
      "Celltype:       LYVE1+MØ2, count:     241, new cells per ct:    12, total cells   12827\n",
      "Celltype:              DC, count:     251, new cells per ct:    10, total cells   13297\n",
      "Celltype:             NKT, count:     257, new cells per ct:     6, total cells   13573\n",
      "Celltype:     EC9_FB-like, count:     270, new cells per ct:    13, total cells   14158\n",
      "Celltype:             NC2, count:     319, new cells per ct:    49, total cells   16314\n",
      "Celltype:             FB5, count:     328, new cells per ct:     9, total cells   16701\n",
      "Celltype:         B_cells, count:     380, new cells per ct:    52, total cells   18885\n",
      "Celltype:             FB7, count:     389, new cells per ct:     9, total cells   19254\n",
      "Celltype:       LYVE1+MØ3, count:     414, new cells per ct:    25, total cells   20254\n",
      "Celltype:            vCM5, count:     414, new cells per ct:     0, total cells   20254\n",
      "Celltype:              NK, count:     442, new cells per ct:    28, total cells   21318\n",
      "Celltype:   EC10_CMC-like, count:     526, new cells per ct:    84, total cells   24426\n",
      "Celltype:       EC7_atria, count:     593, new cells per ct:    67, total cells   26838\n",
      "Celltype:         CD16+Mo, count:     607, new cells per ct:    14, total cells   27328\n",
      "Celltype:       LYVE1+MØ1, count:     628, new cells per ct:    21, total cells   28042\n",
      "Celltype:      EC4_immune, count:     739, new cells per ct:   111, total cells   31705\n",
      "Celltype:       DOCK4+MØ2, count:     757, new cells per ct:    18, total cells   32281\n",
      "Celltype:     CD4+T_cytox, count:     816, new cells per ct:    59, total cells   34110\n",
      "Celltype:           Adip2, count:     910, new cells per ct:    94, total cells   36930\n",
      "Celltype:           Adip1, count:     992, new cells per ct:    82, total cells   39308\n",
      "Celltype:     CD8+T_cytox, count:    1029, new cells per ct:    37, total cells   40344\n",
      "Celltype:             FB6, count:    1039, new cells per ct:    10, total cells   40614\n",
      "Celltype:            aCM2, count:    1106, new cells per ct:    67, total cells   42356\n",
      "Celltype:        SMC2_art, count:    1116, new cells per ct:    10, total cells   42606\n",
      "Celltype:       DOCK4+MØ1, count:    1178, new cells per ct:    62, total cells   44094\n",
      "Celltype:            Mast, count:    1222, new cells per ct:    44, total cells   45106\n",
      "Celltype:         EC6_ven, count:    1242, new cells per ct:    20, total cells   45546\n",
      "Celltype:             FB4, count:    1275, new cells per ct:    33, total cells   46239\n",
      "Celltype:             NC1, count:    1446, new cells per ct:   171, total cells   49659\n",
      "Celltype:       CD8+T_tem, count:    1459, new cells per ct:    13, total cells   49906\n",
      "Celltype:    PC4_CMC-like, count:    1706, new cells per ct:   247, total cells   54352\n",
      "Celltype:         EC2_cap, count:    1768, new cells per ct:    62, total cells   55406\n",
      "Celltype:            vCM4, count:    1863, new cells per ct:    95, total cells   56926\n",
      "Celltype:         EC5_art, count:    1985, new cells per ct:   122, total cells   58756\n",
      "Celltype:            aCM3, count:    2012, new cells per ct:    27, total cells   59134\n",
      "Celltype:         PC3_str, count:    2025, new cells per ct:    13, total cells   59303\n",
      "Celltype:             FB3, count:    2029, new cells per ct:     4, total cells   59351\n",
      "Celltype:         EC3_cap, count:    2041, new cells per ct:    12, total cells   59483\n",
      "Celltype:             FB2, count:    3392, new cells per ct:  1351, total cells   72993\n",
      "Celltype:         EC1_cap, count:    3474, new cells per ct:    82, total cells   73731\n",
      "Celltype:            aCM1, count:    4512, new cells per ct:  1038, total cells   82035\n",
      "Celltype:      SMC1_basic, count:    6376, new cells per ct:  1864, total cells   95083\n",
      "Celltype:       PC2_atria, count:    6582, new cells per ct:   206, total cells   96319\n",
      "Celltype:             FB1, count:    6991, new cells per ct:   409, total cells   98364\n",
      "Celltype:            vCM3, count:   11263, new cells per ct:  4272, total cells  115452\n",
      "Celltype:            vCM2, count:   15186, new cells per ct:  3923, total cells  127221\n",
      "Celltype:        PC1_vent, count:   26956, new cells per ct: 11770, total cells  150761\n",
      "Celltype:            vCM1, count:   39733, new cells per ct: 12777, total cells  163538\n"
     ]
    }
   ],
   "source": [
    "tmp = adata.obs[\"cell_states\"].value_counts().sort_values(ascending=True)\n",
    "n_cts = len(tmp)\n",
    "last_count = 0\n",
    "cells = 0\n",
    "for i, (ct, count) in enumerate(tmp.items()):\n",
    "    cells = cells + (n_cts-i)*(count-last_count)\n",
    "    print(f\"Celltype: {ct:>15}, count: {count:>7}, new cells per ct: {count-last_count:>5}, total cells {cells:>7}\")\n",
    "    #if cells > 65000:\n",
    "    #    break\n",
    "    last_count = count"
   ]
  },
  {
   "cell_type": "markdown",
   "id": "6148c732-c29b-445c-a3bf-577f495f9f83",
   "metadata": {},
   "source": [
    "**decision**: We subsample cell states above 2000 to 2000. --> ~60k cells in total"
   ]
  },
  {
   "cell_type": "code",
   "execution_count": 10,
   "id": "2de88b6b-e7bb-4691-beca-b214a198c643",
   "metadata": {},
   "outputs": [
    {
     "name": "stderr",
     "output_type": "stream",
     "text": [
      "Trying to set attribute `.obs` of view, copying.\n"
     ]
    }
   ],
   "source": [
    "adata.obs[\"keep_cells\"] = False\n",
    "np.random.seed(777)\n",
    "for ct in tmp.index.tolist(): # we use `tmp` since it's ordered by value count (for reproducibility)\n",
    "    tmp_df = adata.obs.loc[adata.obs[\"cell_states\"] == ct]\n",
    "    keep_obs = tmp_df.index[np.random.choice(len(tmp_df),np.min([len(tmp_df),2000]),replace=False)]\n",
    "    adata.obs.loc[keep_obs,\"keep_cells\"] = True"
   ]
  },
  {
   "cell_type": "code",
   "execution_count": 11,
   "id": "dfa1c028-18e1-4fb6-9fd0-0e16fd896213",
   "metadata": {
    "tags": []
   },
   "outputs": [
    {
     "data": {
      "text/plain": [
       "aCM3             2000\n",
       "EC1_cap          2000\n",
       "PC2_atria        2000\n",
       "PC3_str          2000\n",
       "SMC1_basic       2000\n",
       "aCM1             2000\n",
       "FB3              2000\n",
       "FB2              2000\n",
       "FB1              2000\n",
       "EC3_cap          2000\n",
       "PC1_vent         2000\n",
       "vCM1             2000\n",
       "vCM3             2000\n",
       "vCM2             2000\n",
       "EC5_art          1985\n",
       "vCM4             1863\n",
       "EC2_cap          1768\n",
       "PC4_CMC-like     1706\n",
       "CD8+T_tem        1459\n",
       "NC1              1446\n",
       "FB4              1275\n",
       "EC6_ven          1242\n",
       "Mast             1222\n",
       "DOCK4+MØ1        1178\n",
       "SMC2_art         1116\n",
       "aCM2             1106\n",
       "FB6              1039\n",
       "CD8+T_cytox      1029\n",
       "Adip1             992\n",
       "Adip2             910\n",
       "CD4+T_cytox       816\n",
       "DOCK4+MØ2         757\n",
       "EC4_immune        739\n",
       "LYVE1+MØ1         628\n",
       "CD16+Mo           607\n",
       "EC7_atria         593\n",
       "EC10_CMC-like     526\n",
       "NK                442\n",
       "vCM5              414\n",
       "LYVE1+MØ3         414\n",
       "FB7               389\n",
       "B_cells           380\n",
       "FB5               328\n",
       "NC2               319\n",
       "EC9_FB-like       270\n",
       "NKT               257\n",
       "DC                251\n",
       "LYVE1+MØ2         241\n",
       "aCM4              229\n",
       "Mo_pi             207\n",
       "Adip3             192\n",
       "CD14+Mo           163\n",
       "EC8_ln            135\n",
       "Adip4             118\n",
       "CD4+T_tem         109\n",
       "NC4               106\n",
       "Name: cell_states, dtype: int64"
      ]
     },
     "execution_count": 11,
     "metadata": {},
     "output_type": "execute_result"
    }
   ],
   "source": [
    "adata[adata.obs[\"keep_cells\"]].obs[\"cell_states\"].value_counts()"
   ]
  },
  {
   "cell_type": "code",
   "execution_count": 12,
   "id": "f55b5e9c-2e05-4496-9283-c6558a813c97",
   "metadata": {},
   "outputs": [],
   "source": [
    "adata = adata[adata.obs[\"keep_cells\"]]"
   ]
  },
  {
   "cell_type": "code",
   "execution_count": null,
   "id": "31850cc5-3e79-4afd-94c9-b60b8528a4da",
   "metadata": {},
   "outputs": [
    {
     "name": "stdout",
     "output_type": "stream",
     "text": [
      "filtered out 8678 genes that are detected in less than 20 cells\n"
     ]
    },
    {
     "name": "stderr",
     "output_type": "stream",
     "text": [
      "Trying to set attribute `.var` of view, copying.\n"
     ]
    },
    {
     "name": "stdout",
     "output_type": "stream",
     "text": [
      "normalizing by total count per cell\n"
     ]
    },
    {
     "name": "stderr",
     "output_type": "stream",
     "text": [
      "/opt/python/lib/python3.8/site-packages/pandas/core/arrays/categorical.py:2487: FutureWarning: The `inplace` parameter in pandas.Categorical.remove_unused_categories is deprecated and will be removed in a future version.\n",
      "  res = method(*args, **kwargs)\n"
     ]
    },
    {
     "name": "stdout",
     "output_type": "stream",
     "text": [
      "    finished (0:00:32): normalized adata.X and added    'n_counts', counts per cell before normalization (adata.obs)\n",
      "computing PCA\n",
      "    with n_comps=15\n",
      "    finished (0:03:11)\n",
      "computing neighbors\n",
      "    using 'X_pca' with n_pcs = 15\n",
      "    finished: added to `.uns['neighbors']`\n",
      "    `.obsp['distances']`, distances for each pair of neighbors\n",
      "    `.obsp['connectivities']`, weighted adjacency matrix (0:01:06)\n",
      "running Leiden clustering\n",
      "    finished: found 17 clusters and added\n",
      "    'groups', the cluster labels (adata.obs, categorical) (0:00:48)\n"
     ]
    }
   ],
   "source": [
    "sc.pp.filter_genes(adata,min_cells=20)\n",
    "sc.pp.filter_cells(adata,min_genes=1)\n",
    "adata.X = adata.X.toarray()\n",
    "calculate_size_factors(adata,normalisation='scran',key_added='size_factors')\n",
    "calculate_size_factors(adata,normalisation='cpm',key_added='size_factors_cpm')\n",
    "get_highly_variable(adata,N=8000,key_added='highly_variable')\n",
    "for n_hvg in [6000,4000,2000,1000,500]:\n",
    "    get_highly_variable(adata,N=n_hvg,key_added=f'highly_variable_{n_hvg}')\n",
    "get_umap(adata,key_added=\"X_umap\",hvg_key=\"highly_variable\")\n",
    "#for q in [0.8,0.85,0.9,0.95,0.99]:\n",
    "#    print(f\"Calculate quantiles {q}\")\n",
    "#    get_expression_quantile(adata,q=q,log1p=True,zeros_to_nan=False)\n",
    "adata.X = scipy.sparse.csr_matrix(adata.X)\n",
    "#adata = adata[:,adata.var['highly_variable']]\n",
    "adata.write(DATA_DIR+'processed/Litvinukova2020.h5ad')"
   ]
  },
  {
   "cell_type": "code",
   "execution_count": 9,
   "id": "4a16a67f-653a-4a65-ad25-6e1811f8f688",
   "metadata": {},
   "outputs": [
    {
     "data": {
      "image/png": "[encoded data removed]",
      "text/plain": [
       "<Figure size 989.28x288 with 2 Axes>"
      ]
     },
     "metadata": {},
     "output_type": "display_data"
    }
   ],
   "source": [
    "adata = sc.read(DATA_DIR+'processed/Litvinukova2020.h5ad')\n",
    "sc.pl.umap(adata,color=[\"cell_type\",\"cell_states\"])"
   ]
  },
  {
   "cell_type": "code",
   "execution_count": null,
   "id": "99efd9d5-4124-45a5-b58a-c2d1e6548d4f",
   "metadata": {},
   "outputs": [],
   "source": []
  },
  {
   "cell_type": "markdown",
   "id": "8e02142a-2746-4f61-93d6-861e15deda7e",
   "metadata": {},
   "source": [
    "# Add positive only quantiles and expression penalties"
   ]
  },
  {
   "cell_type": "code",
   "execution_count": null,
   "id": "4c94b458-718b-4db7-adef-73c40d5126af",
   "metadata": {},
   "outputs": [],
   "source": [
    "#TODO: adjust spapros imports to newest spapros version "
   ]
  },
  {
   "cell_type": "code",
   "execution_count": 3,
   "id": "74c621c4-9655-439a-8ac5-b27a40098a5a",
   "metadata": {},
   "outputs": [
    {
     "name": "stdout",
     "output_type": "stream",
     "text": [
      "######  Madissoon2019  ######\n"
     ]
    },
    {
     "name": "stderr",
     "output_type": "stream",
     "text": [
      "normalizing counts per cell\n",
      "    finished (0:00:00)\n"
     ]
    },
    {
     "data": {
      "image/png": "[encoded data removed]",
      "text/plain": [
       "<Figure size 864x288 with 2 Axes>"
      ]
     },
     "metadata": {
      "needs_background": "light"
     },
     "output_type": "display_data"
    }
   ],
   "source": [
    "from spapros.util import util\n",
    "\n",
    "for dataset in ['Madissoon2019']:#,'Meyer5loc2021','Krasnow2020','Asp2019']:\n",
    "    print(\"###### \", dataset, \" ######\")\n",
    "    adata = sc.read(DATA_DIR+f'processed/{dataset}.h5ad')\n",
    "    #for q in [0.8,0.85,0.9,0.95,0.99]:\n",
    "    #    print(f\"Calculate quantiles {q}\")\n",
    "    #    get_expression_quantile(adata,q=q,log1p=True,zeros_to_nan=True)\n",
    "        \n",
    "    lower_th, upper_th = util.transfered_expression_thresholds(adata,lower=2.3,upper=5,tolerance=0.05,target_sum=10000,output_path=None,plot=True)\n",
    "    factor = 1\n",
    "    var = [factor*0.1,factor*0.5]\n",
    "    penalty = util.plateau_penalty_kernel(var=var,x_min=lower_th,x_max=upper_th)\n",
    "    adata.var['expression_penalty'] = penalty(adata.var[f'quantile_0.99'])\n",
    "    penalty = util.plateau_penalty_kernel(var=var,x_min=None,x_max=upper_th)\n",
    "    adata.var['expression_penalty_upper'] = penalty(adata.var[f'quantile_0.99'])\n",
    "    penalty = util.plateau_penalty_kernel(var=var,x_min=lower_th,x_max=None)\n",
    "    adata.var['expression_penalty_lower'] = penalty(adata.var[f'pos_quantile_0.9'])\n",
    "\n",
    "    if not scipy.sparse.issparse(adata.X):\n",
    "        adata.X = scipy.sparse.csr_matrix(adata.X)\n",
    "    adata.write(DATA_DIR+f'processed/{dataset}.h5ad')"
   ]
  }
 ],
 "metadata": {
  "kernelspec": {
   "display_name": "Python 3",
   "language": "python",
   "name": "python3"
  },
  "language_info": {
   "codemirror_mode": {
    "name": "ipython",
    "version": 3
   },
   "file_extension": ".py",
   "mimetype": "text/x-python",
   "name": "python",
   "nbconvert_exporter": "python",
   "pygments_lexer": "ipython3",
   "version": "3.8.8"
  }
 },
 "nbformat": 4,
 "nbformat_minor": 5
}
